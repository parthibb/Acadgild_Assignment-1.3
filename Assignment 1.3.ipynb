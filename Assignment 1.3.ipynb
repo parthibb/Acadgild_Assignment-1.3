{
 "cells": [
  {
   "cell_type": "code",
   "execution_count": 1,
   "metadata": {},
   "outputs": [
    {
     "name": "stdout",
     "output_type": "stream",
     "text": [
      " First NameParthib\n",
      " Last NameBanerjee\n",
      "Banerjee Parthib\n",
      "Parthib Banerjee\n"
     ]
    }
   ],
   "source": [
    "a = input(\" First Name\")\n",
    "b = input(\" Last Name\")\n",
    "print(b +\" \" +a)\n",
    "print(a+\" \"+b)"
   ]
  },
  {
   "cell_type": "code",
   "execution_count": 2,
   "metadata": {},
   "outputs": [
    {
     "name": "stdout",
     "output_type": "stream",
     "text": [
      " First NameParthib\n",
      " Last NameBanerjee\n",
      "eejrenaB bihtraP\n"
     ]
    }
   ],
   "source": [
    "a = input(\" First Name\")\n",
    "b = input(\" Last Name\")\n",
    "reverse1= a[:: -1]\n",
    "reverse2= b[:: -1]\n",
    "print(reverse2 +\" \"+ reverse1)"
   ]
  },
  {
   "cell_type": "code",
   "execution_count": null,
   "metadata": {},
   "outputs": [],
   "source": []
  }
 ],
 "metadata": {
  "kernelspec": {
   "display_name": "Python 3",
   "language": "python",
   "name": "python3"
  },
  "language_info": {
   "codemirror_mode": {
    "name": "ipython",
    "version": 3
   },
   "file_extension": ".py",
   "mimetype": "text/x-python",
   "name": "python",
   "nbconvert_exporter": "python",
   "pygments_lexer": "ipython3",
   "version": "3.6.4"
  }
 },
 "nbformat": 4,
 "nbformat_minor": 2
}
